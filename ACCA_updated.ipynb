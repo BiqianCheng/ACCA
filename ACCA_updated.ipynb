{
 "cells": [
  {
   "cell_type": "code",
   "execution_count": 2,
   "metadata": {},
   "outputs": [],
   "source": [
    "'''\n",
    "This script is demo for one-one corresponding dataset with\n",
    "CCA-zoo implemented MCCA, to estimate the PI\n",
    "'''\n",
    "import numpy as np\n",
    "import matplotlib.pyplot as plt"
   ]
  },
  {
   "cell_type": "code",
   "execution_count": 3,
   "metadata": {},
   "outputs": [
    {
     "ename": "FileNotFoundError",
     "evalue": "[Errno 2] No such file or directory: 'Wiki_embeddings/Wiki_embeddings/wikiGraph.mat'",
     "output_type": "error",
     "traceback": [
      "\u001b[0;31m---------------------------------------------------------------------------\u001b[0m",
      "\u001b[0;31mFileNotFoundError\u001b[0m                         Traceback (most recent call last)",
      "\u001b[0;32m~/opt/anaconda3/lib/python3.9/site-packages/scipy/io/matlab/mio.py\u001b[0m in \u001b[0;36m_open_file\u001b[0;34m(file_like, appendmat, mode)\u001b[0m\n\u001b[1;32m     38\u001b[0m     \u001b[0;32mtry\u001b[0m\u001b[0;34m:\u001b[0m\u001b[0;34m\u001b[0m\u001b[0;34m\u001b[0m\u001b[0m\n\u001b[0;32m---> 39\u001b[0;31m         \u001b[0;32mreturn\u001b[0m \u001b[0mopen\u001b[0m\u001b[0;34m(\u001b[0m\u001b[0mfile_like\u001b[0m\u001b[0;34m,\u001b[0m \u001b[0mmode\u001b[0m\u001b[0;34m)\u001b[0m\u001b[0;34m,\u001b[0m \u001b[0;32mTrue\u001b[0m\u001b[0;34m\u001b[0m\u001b[0;34m\u001b[0m\u001b[0m\n\u001b[0m\u001b[1;32m     40\u001b[0m     \u001b[0;32mexcept\u001b[0m \u001b[0mIOError\u001b[0m \u001b[0;32mas\u001b[0m \u001b[0me\u001b[0m\u001b[0;34m:\u001b[0m\u001b[0;34m\u001b[0m\u001b[0;34m\u001b[0m\u001b[0m\n",
      "\u001b[0;31mFileNotFoundError\u001b[0m: [Errno 2] No such file or directory: 'Wiki_embeddings/Wiki_embeddings/wikiGraph.mat'",
      "\nDuring handling of the above exception, another exception occurred:\n",
      "\u001b[0;31mFileNotFoundError\u001b[0m                         Traceback (most recent call last)",
      "\u001b[0;32m/var/folders/40/dwwt9ypj3bq7hk3cgxb8rkmr0000gn/T/ipykernel_9585/3757837298.py\u001b[0m in \u001b[0;36m<module>\u001b[0;34m\u001b[0m\n\u001b[1;32m      1\u001b[0m \u001b[0;32mimport\u001b[0m \u001b[0mscipy\u001b[0m\u001b[0;34m.\u001b[0m\u001b[0mio\u001b[0m\u001b[0;34m\u001b[0m\u001b[0;34m\u001b[0m\u001b[0m\n\u001b[0;32m----> 2\u001b[0;31m \u001b[0mmat\u001b[0m \u001b[0;34m=\u001b[0m \u001b[0mscipy\u001b[0m\u001b[0;34m.\u001b[0m\u001b[0mio\u001b[0m\u001b[0;34m.\u001b[0m\u001b[0mloadmat\u001b[0m\u001b[0;34m(\u001b[0m\u001b[0;34m\"Wiki_embeddings/Wiki_embeddings/wikiGraph.mat\"\u001b[0m\u001b[0;34m)\u001b[0m\u001b[0;34m\u001b[0m\u001b[0;34m\u001b[0m\u001b[0m\n\u001b[0m\u001b[1;32m      3\u001b[0m \u001b[0mprint\u001b[0m\u001b[0;34m(\u001b[0m\u001b[0mmat\u001b[0m\u001b[0;34m[\u001b[0m\u001b[0;34m'network'\u001b[0m\u001b[0;34m]\u001b[0m\u001b[0;34m)\u001b[0m\u001b[0;34m\u001b[0m\u001b[0;34m\u001b[0m\u001b[0m\n",
      "\u001b[0;32m~/opt/anaconda3/lib/python3.9/site-packages/scipy/io/matlab/mio.py\u001b[0m in \u001b[0;36mloadmat\u001b[0;34m(file_name, mdict, appendmat, **kwargs)\u001b[0m\n\u001b[1;32m    222\u001b[0m     \"\"\"\n\u001b[1;32m    223\u001b[0m     \u001b[0mvariable_names\u001b[0m \u001b[0;34m=\u001b[0m \u001b[0mkwargs\u001b[0m\u001b[0;34m.\u001b[0m\u001b[0mpop\u001b[0m\u001b[0;34m(\u001b[0m\u001b[0;34m'variable_names'\u001b[0m\u001b[0;34m,\u001b[0m \u001b[0;32mNone\u001b[0m\u001b[0;34m)\u001b[0m\u001b[0;34m\u001b[0m\u001b[0;34m\u001b[0m\u001b[0m\n\u001b[0;32m--> 224\u001b[0;31m     \u001b[0;32mwith\u001b[0m \u001b[0m_open_file_context\u001b[0m\u001b[0;34m(\u001b[0m\u001b[0mfile_name\u001b[0m\u001b[0;34m,\u001b[0m \u001b[0mappendmat\u001b[0m\u001b[0;34m)\u001b[0m \u001b[0;32mas\u001b[0m \u001b[0mf\u001b[0m\u001b[0;34m:\u001b[0m\u001b[0;34m\u001b[0m\u001b[0;34m\u001b[0m\u001b[0m\n\u001b[0m\u001b[1;32m    225\u001b[0m         \u001b[0mMR\u001b[0m\u001b[0;34m,\u001b[0m \u001b[0m_\u001b[0m \u001b[0;34m=\u001b[0m \u001b[0mmat_reader_factory\u001b[0m\u001b[0;34m(\u001b[0m\u001b[0mf\u001b[0m\u001b[0;34m,\u001b[0m \u001b[0;34m**\u001b[0m\u001b[0mkwargs\u001b[0m\u001b[0;34m)\u001b[0m\u001b[0;34m\u001b[0m\u001b[0;34m\u001b[0m\u001b[0m\n\u001b[1;32m    226\u001b[0m         \u001b[0mmatfile_dict\u001b[0m \u001b[0;34m=\u001b[0m \u001b[0mMR\u001b[0m\u001b[0;34m.\u001b[0m\u001b[0mget_variables\u001b[0m\u001b[0;34m(\u001b[0m\u001b[0mvariable_names\u001b[0m\u001b[0;34m)\u001b[0m\u001b[0;34m\u001b[0m\u001b[0;34m\u001b[0m\u001b[0m\n",
      "\u001b[0;32m~/opt/anaconda3/lib/python3.9/contextlib.py\u001b[0m in \u001b[0;36m__enter__\u001b[0;34m(self)\u001b[0m\n\u001b[1;32m    117\u001b[0m         \u001b[0;32mdel\u001b[0m \u001b[0mself\u001b[0m\u001b[0;34m.\u001b[0m\u001b[0margs\u001b[0m\u001b[0;34m,\u001b[0m \u001b[0mself\u001b[0m\u001b[0;34m.\u001b[0m\u001b[0mkwds\u001b[0m\u001b[0;34m,\u001b[0m \u001b[0mself\u001b[0m\u001b[0;34m.\u001b[0m\u001b[0mfunc\u001b[0m\u001b[0;34m\u001b[0m\u001b[0;34m\u001b[0m\u001b[0m\n\u001b[1;32m    118\u001b[0m         \u001b[0;32mtry\u001b[0m\u001b[0;34m:\u001b[0m\u001b[0;34m\u001b[0m\u001b[0;34m\u001b[0m\u001b[0m\n\u001b[0;32m--> 119\u001b[0;31m             \u001b[0;32mreturn\u001b[0m \u001b[0mnext\u001b[0m\u001b[0;34m(\u001b[0m\u001b[0mself\u001b[0m\u001b[0;34m.\u001b[0m\u001b[0mgen\u001b[0m\u001b[0;34m)\u001b[0m\u001b[0;34m\u001b[0m\u001b[0;34m\u001b[0m\u001b[0m\n\u001b[0m\u001b[1;32m    120\u001b[0m         \u001b[0;32mexcept\u001b[0m \u001b[0mStopIteration\u001b[0m\u001b[0;34m:\u001b[0m\u001b[0;34m\u001b[0m\u001b[0;34m\u001b[0m\u001b[0m\n\u001b[1;32m    121\u001b[0m             \u001b[0;32mraise\u001b[0m \u001b[0mRuntimeError\u001b[0m\u001b[0;34m(\u001b[0m\u001b[0;34m\"generator didn't yield\"\u001b[0m\u001b[0;34m)\u001b[0m \u001b[0;32mfrom\u001b[0m \u001b[0;32mNone\u001b[0m\u001b[0;34m\u001b[0m\u001b[0;34m\u001b[0m\u001b[0m\n",
      "\u001b[0;32m~/opt/anaconda3/lib/python3.9/site-packages/scipy/io/matlab/mio.py\u001b[0m in \u001b[0;36m_open_file_context\u001b[0;34m(file_like, appendmat, mode)\u001b[0m\n\u001b[1;32m     15\u001b[0m \u001b[0;34m@\u001b[0m\u001b[0mcontextmanager\u001b[0m\u001b[0;34m\u001b[0m\u001b[0;34m\u001b[0m\u001b[0m\n\u001b[1;32m     16\u001b[0m \u001b[0;32mdef\u001b[0m \u001b[0m_open_file_context\u001b[0m\u001b[0;34m(\u001b[0m\u001b[0mfile_like\u001b[0m\u001b[0;34m,\u001b[0m \u001b[0mappendmat\u001b[0m\u001b[0;34m,\u001b[0m \u001b[0mmode\u001b[0m\u001b[0;34m=\u001b[0m\u001b[0;34m'rb'\u001b[0m\u001b[0;34m)\u001b[0m\u001b[0;34m:\u001b[0m\u001b[0;34m\u001b[0m\u001b[0;34m\u001b[0m\u001b[0m\n\u001b[0;32m---> 17\u001b[0;31m     \u001b[0mf\u001b[0m\u001b[0;34m,\u001b[0m \u001b[0mopened\u001b[0m \u001b[0;34m=\u001b[0m \u001b[0m_open_file\u001b[0m\u001b[0;34m(\u001b[0m\u001b[0mfile_like\u001b[0m\u001b[0;34m,\u001b[0m \u001b[0mappendmat\u001b[0m\u001b[0;34m,\u001b[0m \u001b[0mmode\u001b[0m\u001b[0;34m)\u001b[0m\u001b[0;34m\u001b[0m\u001b[0;34m\u001b[0m\u001b[0m\n\u001b[0m\u001b[1;32m     18\u001b[0m     \u001b[0;32mtry\u001b[0m\u001b[0;34m:\u001b[0m\u001b[0;34m\u001b[0m\u001b[0;34m\u001b[0m\u001b[0m\n\u001b[1;32m     19\u001b[0m         \u001b[0;32myield\u001b[0m \u001b[0mf\u001b[0m\u001b[0;34m\u001b[0m\u001b[0;34m\u001b[0m\u001b[0m\n",
      "\u001b[0;32m~/opt/anaconda3/lib/python3.9/site-packages/scipy/io/matlab/mio.py\u001b[0m in \u001b[0;36m_open_file\u001b[0;34m(file_like, appendmat, mode)\u001b[0m\n\u001b[1;32m     43\u001b[0m             \u001b[0;32mif\u001b[0m \u001b[0mappendmat\u001b[0m \u001b[0;32mand\u001b[0m \u001b[0;32mnot\u001b[0m \u001b[0mfile_like\u001b[0m\u001b[0;34m.\u001b[0m\u001b[0mendswith\u001b[0m\u001b[0;34m(\u001b[0m\u001b[0;34m'.mat'\u001b[0m\u001b[0;34m)\u001b[0m\u001b[0;34m:\u001b[0m\u001b[0;34m\u001b[0m\u001b[0;34m\u001b[0m\u001b[0m\n\u001b[1;32m     44\u001b[0m                 \u001b[0mfile_like\u001b[0m \u001b[0;34m+=\u001b[0m \u001b[0;34m'.mat'\u001b[0m\u001b[0;34m\u001b[0m\u001b[0;34m\u001b[0m\u001b[0m\n\u001b[0;32m---> 45\u001b[0;31m             \u001b[0;32mreturn\u001b[0m \u001b[0mopen\u001b[0m\u001b[0;34m(\u001b[0m\u001b[0mfile_like\u001b[0m\u001b[0;34m,\u001b[0m \u001b[0mmode\u001b[0m\u001b[0;34m)\u001b[0m\u001b[0;34m,\u001b[0m \u001b[0;32mTrue\u001b[0m\u001b[0;34m\u001b[0m\u001b[0;34m\u001b[0m\u001b[0m\n\u001b[0m\u001b[1;32m     46\u001b[0m         \u001b[0;32melse\u001b[0m\u001b[0;34m:\u001b[0m\u001b[0;34m\u001b[0m\u001b[0;34m\u001b[0m\u001b[0m\n\u001b[1;32m     47\u001b[0m             raise IOError(\n",
      "\u001b[0;31mFileNotFoundError\u001b[0m: [Errno 2] No such file or directory: 'Wiki_embeddings/Wiki_embeddings/wikiGraph.mat'"
     ]
    }
   ],
   "source": [
    "import scipy.io\n",
    "mat = scipy.io.loadmat(\"Wiki_embeddings/wikiGraph.mat\")\n",
    "print(mat['network'])"
   ]
  },
  {
   "cell_type": "code",
   "execution_count": 1,
   "metadata": {},
   "outputs": [],
   "source": [
    "#################################\n",
    "#    Function for MAXVAR MCCA   #\n",
    "#################################\n",
    "\n",
    "from cca_zoo.utils.check_values import _process_parameter\n",
    "from heapq import nlargest\n",
    "\n",
    "def MAXVAR_MCCA(X, Y, PI):\n",
    "    '''\n",
    "    update the projections by Max-of-Variance MCCA\n",
    "    input: X --> the first dataset\n",
    "           Y --> the second dataset\n",
    "           PI --> the estimated permutation matrix\n",
    "    Output: U --> the projection matrix for dataset X\n",
    "            V --> the projection matrix for dataset Y\n",
    "            S --> the common resource matrix\n",
    "    '''\n",
    "    # common termed to be used\n",
    "    YPI = np.dot(Y, PI)\n",
    "    XXT_inv = np.linalg.inv(np.dot(X, X.T))\n",
    "    YPI_YPIT_inv = np.linalg.inv(np.dot(YPI, YPI.T))\n",
    "    \n",
    "    # estimate the common resource matrix S\n",
    "    f_1 = np.dot(X.T, np.dot(XXT_inv, X))\n",
    "    f_2 = np.dot(YPI.T, np.dot(YPI_YPIT_inv, YPI))\n",
    "    f = 0.02 * f_1 + f_2\n",
    "    # Compute the Eigenvectors and eigenvalues for function f, as complex numbers\n",
    "    eigenvalues, eigenvectors = np.linalg.eig(f)\n",
    "    # only takes the real part of the complex numbers\n",
    "    eigenvalues = eigenvalues.real.tolist()\n",
    "    eigenvectors = eigenvectors.real\n",
    "    # the first d columns of eigenvectors should be the values of S\n",
    "    largest_eigen = nlargest(latent_dims, eigenvalues)\n",
    "    S = []\n",
    "    for principal_eigenvalue in largest_eigen:\n",
    "        eigen_idx = eigenvalues.index(principal_eigenvalue)\n",
    "        eigen_vec = eigenvectors[eigen_idx]\n",
    "        S.append(eigen_vec)\n",
    "    # convert the S matrix into array\n",
    "    S = np.array(S)\n",
    "    \n",
    "    # estimate the projections U and V\n",
    "    U = np.dot(XXT_inv, np.dot(X, S.T))\n",
    "    V = np.dot(YPI_YPIT_inv, np.dot(YPI, S.T))\n",
    "    \n",
    "    return U, V, S"
   ]
  },
  {
   "cell_type": "code",
   "execution_count": 3,
   "metadata": {
    "scrolled": false
   },
   "outputs": [
    {
     "name": "stdout",
     "output_type": "stream",
     "text": [
      "### Experiment of data NO index feature!! ###\n",
      "# df-128 is of size :  (128, 2405)\n",
      "[[-2.9664550e-01 -3.0697235e-01 -1.9261949e-01 ...  1.6052672e-01\n",
      "  -3.8028070e-01 -1.4412411e+00]\n",
      " [ 2.5683755e-01  5.1031332e-02  4.2876366e-01 ... -1.0390278e-01\n",
      "  -7.8005143e-03 -1.0345765e+00]\n",
      " [-8.1791446e-02  1.9682011e-01 -9.1557290e-02 ...  1.8834340e-02\n",
      "  -2.1594402e-01  2.4774540e+00]\n",
      " ...\n",
      " [-2.6184088e-01 -2.8352790e-01 -6.2795940e-02 ...  1.8578124e-01\n",
      "  -1.5014867e-01  5.9148103e-01]\n",
      " [-1.6339578e-03 -1.3055106e-01  2.1930984e-01 ... -1.0484107e-01\n",
      "   1.8645848e-01  1.8861721e-01]\n",
      " [ 1.9291838e-01  3.0451250e-01  2.6148596e-01 ...  1.4075616e-01\n",
      "   4.7732893e-02 -1.4440607e-01]]\n",
      "# df-200 is of size :  (200, 2405)\n",
      "[[-2.59307920e-01  8.99237540e-02 -2.39340600e-01 ... -1.49395730e-01\n",
      "  -1.34092150e-01  1.45191570e-01]\n",
      " [ 1.70943110e-01  2.04685850e-01  3.06829570e-01 ... -1.17370740e-01\n",
      "  -2.20019100e-01  1.15079240e+00]\n",
      " [-2.07723660e-01 -2.09222780e-01 -2.00417620e-01 ... -1.39250460e-01\n",
      "  -2.21033320e-01  1.81362400e+00]\n",
      " ...\n",
      " [-1.69604460e-03  9.22005300e-02 -6.13532480e-02 ...  2.28782680e-01\n",
      "   1.50062780e-01  8.72543750e-01]\n",
      " [-1.56915170e-02 -2.40391730e-02 -3.62736000e-02 ...  8.50028000e-02\n",
      "   1.25390130e-01 -8.60304060e-01]\n",
      " [ 6.55745900e-02 -2.21589480e-01  3.28872900e-01 ... -9.42451700e-02\n",
      "  -1.07219614e-01  9.50267140e-01]]\n",
      "# the permutation matrix is: \n",
      "[[0. 0. 0. ... 0. 0. 0.]\n",
      " [0. 0. 0. ... 0. 0. 0.]\n",
      " [0. 0. 0. ... 0. 0. 0.]\n",
      " ...\n",
      " [0. 0. 0. ... 0. 0. 0.]\n",
      " [0. 0. 0. ... 0. 0. 0.]\n",
      " [0. 0. 0. ... 0. 0. 0.]]\n",
      "# the A*P is: \n",
      "[[-0.32786852  0.33175796 -0.21598104 ... -0.47971803 -0.16346206\n",
      "  -0.10256569]\n",
      " [-0.10448349  0.15370567 -0.16590637 ... -0.4858938  -0.12272336\n",
      "   0.57144576]\n",
      " [-0.02728938 -0.05405427 -0.12511024 ... -0.06871347 -0.03457254\n",
      "   0.01126463]\n",
      " ...\n",
      " [ 0.08230068  0.2575032  -0.03064115 ... -0.16428973 -0.10376622\n",
      "  -0.05489661]\n",
      " [ 0.02979111  0.3247943   0.29054585 ... -0.33089796 -0.03961959\n",
      "   0.17379099]\n",
      " [ 0.3942786   0.07951678  0.39579794 ...  0.08254032  0.01149307\n",
      "   0.33678243]]\n",
      "# the B is: \n",
      "[[-2.59307920e-01  8.99237540e-02 -2.39340600e-01 ... -1.49395730e-01\n",
      "  -1.34092150e-01  1.45191570e-01]\n",
      " [ 1.70943110e-01  2.04685850e-01  3.06829570e-01 ... -1.17370740e-01\n",
      "  -2.20019100e-01  1.15079240e+00]\n",
      " [-2.07723660e-01 -2.09222780e-01 -2.00417620e-01 ... -1.39250460e-01\n",
      "  -2.21033320e-01  1.81362400e+00]\n",
      " ...\n",
      " [-1.69604460e-03  9.22005300e-02 -6.13532480e-02 ...  2.28782680e-01\n",
      "   1.50062780e-01  8.72543750e-01]\n",
      " [-1.56915170e-02 -2.40391730e-02 -3.62736000e-02 ...  8.50028000e-02\n",
      "   1.25390130e-01 -8.60304060e-01]\n",
      " [ 6.55745900e-02 -2.21589480e-01  3.28872900e-01 ... -9.42451700e-02\n",
      "  -1.07219614e-01  9.50267140e-01]]\n"
     ]
    }
   ],
   "source": [
    "#####################################################\n",
    "#          Test the procrustes.permutation          #\n",
    "#    Test with wiki_dw128 and wiki_dw200 datasets   #\n",
    "#####################################################\n",
    "\n",
    "from scipy.optimize import minimize\n",
    "from scipy.stats import entropy\n",
    "from scipy.optimize import Bounds\n",
    "import scipy\n",
    "from scipy.spatial import procrustes\n",
    "\n",
    "from pathlib import Path\n",
    "from procrustes import permutation\n",
    "\n",
    "print(\"### Experiment of data NO index feature!! ###\")\n",
    "### evaluate the permutation with Wiki_embeddings, NO \n",
    "df128 = np.loadtxt('Wiki_embeddings/Wiki_embeddings/wiki_dw128.txt', delimiter = ' ', skiprows = 1, usecols=range(1, 129)).T\n",
    "df200 = np.loadtxt('Wiki_embeddings/Wiki_embeddings/wiki_dw200.txt', delimiter = ' ', skiprows = 1, usecols=range(1, 201)).T\n",
    "print(\"# df-128 is of size : \", df128.shape)\n",
    "print(df128)\n",
    "print(\"# df-200 is of size : \", df200.shape)\n",
    "print(df200)\n",
    "\n",
    "esti_PI_NoIdx = permutation(df128, df200, pad=True)\n",
    "\n",
    "print(\"# the permutation matrix is: \")\n",
    "print(esti_PI_NoIdx.t)\n",
    "print(\"# the A*P is: \")\n",
    "print(np.dot(df128, esti_PI_NoIdx.t))\n",
    "print(\"# the B is: \")\n",
    "print(df200)"
   ]
  },
  {
   "cell_type": "code",
   "execution_count": 4,
   "metadata": {},
   "outputs": [
    {
     "name": "stdout",
     "output_type": "stream",
     "text": [
      "# Accuracy of permutation(No index) is:  0.002494802494802495\n"
     ]
    }
   ],
   "source": [
    "##########################################\n",
    "### Permutation evaluation -- NO index ###\n",
    "##########################################\n",
    "\n",
    "acc = 0.0\n",
    "for i in range(2405):\n",
    "    esti_idx_NoIdx = np.where(esti_PI_NoIdx.t[i]==1)[0][0]\n",
    "    if esti_idx_NoIdx == i:\n",
    "        acc += 1\n",
    "print(\"# Accuracy of permutation(No index) is: \", acc/2405)"
   ]
  },
  {
   "cell_type": "code",
   "execution_count": 6,
   "metadata": {
    "scrolled": true
   },
   "outputs": [
    {
     "name": "stdout",
     "output_type": "stream",
     "text": [
      "### Experiment of data NO index feature!! ###\n",
      "# the permutation matrix is: \n",
      "[[0. 0. 0. ... 0. 0. 0.]\n",
      " [0. 0. 0. ... 0. 0. 0.]\n",
      " [0. 0. 0. ... 0. 0. 0.]\n",
      " ...\n",
      " [0. 0. 0. ... 0. 0. 0.]\n",
      " [0. 0. 0. ... 0. 0. 0.]\n",
      " [0. 0. 0. ... 0. 0. 0.]]\n",
      "# the A*P is: \n",
      "[[-0.16881093  0.33562568 -0.7932359  ... -0.46473283  0.42349005\n",
      "  -0.23097636]\n",
      " [ 0.7214768   0.25663763  0.86250967 ... -0.07724786 -0.03296254\n",
      "   0.21483442]\n",
      " [ 0.34590214  0.04908696  0.4308652  ...  0.18875907 -0.26403782\n",
      "  -0.12742591]\n",
      " ...\n",
      " [ 0.31486535  0.27726385 -0.60380226 ...  0.05410302 -0.00199011\n",
      "  -0.24164435]\n",
      " [-0.20309035  0.10684483 -0.03188747 ... -0.19829868 -0.39215946\n",
      "   0.03304206]\n",
      " [ 0.1853972  -0.15210658  0.3738823  ...  0.28256106  0.30505264\n",
      "   0.28513068]]\n",
      "# the B is: \n",
      "[[-0.16881093  0.33562568 -0.7932359  ... -0.46473283  0.42349005\n",
      "  -0.23097636]\n",
      " [ 0.7214768   0.25663763  0.86250967 ... -0.07724786 -0.03296254\n",
      "   0.21483442]\n",
      " [ 0.34590214  0.04908696  0.4308652  ...  0.18875907 -0.26403782\n",
      "  -0.12742591]\n",
      " ...\n",
      " [ 0.31486535  0.27726385 -0.60380226 ...  0.05410302 -0.00199011\n",
      "  -0.24164435]\n",
      " [-0.20309035  0.10684483 -0.03188747 ... -0.19829868 -0.39215946\n",
      "   0.03304206]\n",
      " [ 0.1853972  -0.15210658  0.3738823  ...  0.28256106  0.30505264\n",
      "   0.28513068]]\n"
     ]
    }
   ],
   "source": [
    "#####################################################\n",
    "#          Test the procrustes.permutation          #\n",
    "#    Test with wiki_dw128 and wiki_dw200 datasets   #\n",
    "#                                                   #\n",
    "#         Re-Order the second wiki_dw200 dataset    #\n",
    "#####################################################\n",
    "\n",
    "from scipy.optimize import minimize\n",
    "from scipy.stats import entropy\n",
    "from scipy.optimize import Bounds\n",
    "import scipy\n",
    "from scipy.spatial import procrustes\n",
    "\n",
    "from pathlib import Path\n",
    "from procrustes import permutation\n",
    "\n",
    "import numpy as np\n",
    "import random\n",
    "\n",
    "print(\"### Experiment of data NO index feature!! ###\")\n",
    "### evaluate the permutation with Wiki_embeddings, NO \n",
    "df128_1 = np.loadtxt('Wiki_embeddings/Wiki_embeddings/wiki_dw128.txt', delimiter = ' ', skiprows = 1, usecols=range(1, 129)).T\n",
    "df128_2 = np.loadtxt('Wiki_embeddings/Wiki_embeddings/wiki_dw128.txt', delimiter = ' ', skiprows = 1, usecols=range(1, 129)).T\n",
    "\n",
    "### reorder the second dataset\n",
    "reorder = np.array(random.sample(range(2405), 2405))\n",
    "df128_2 = df128_2[:, reorder]\n",
    "\n",
    "### generate the true permutatoin\n",
    "true_PI = np.zeros((2405, 2405))\n",
    "for i in range(2405):\n",
    "    true_PI[reorder[i]][i] = 1\n",
    "\n",
    "esti_PI_NoIdx = permutation(df128_1, df128_2, pad=True)\n",
    "\n",
    "print(\"# the permutation matrix is: \")\n",
    "print(esti_PI_NoIdx.t)\n",
    "print(\"# the A*P is: \")\n",
    "print(np.dot(df128_1, esti_PI_NoIdx.t))\n",
    "print(\"# the B is: \")\n",
    "print(df128_2)"
   ]
  },
  {
   "cell_type": "code",
   "execution_count": 7,
   "metadata": {},
   "outputs": [
    {
     "name": "stdout",
     "output_type": "stream",
     "text": [
      "# Accuracy of permutation(No index) is:  1.0\n",
      "# the true order is :  [1423 2257 1879 ...  963  881  182]\n",
      "# the estimated order is :  [1423 2257 1879 ...  963  881  182]\n"
     ]
    }
   ],
   "source": [
    "##########################################\n",
    "### Permutation evaluation -- NO index ###\n",
    "##########################################\n",
    "esti_order = []\n",
    "true_PI_order = []\n",
    "acc = 0.0\n",
    "for i in range(2405):\n",
    "    esti_idx_NoIdx = np.where(esti_PI_NoIdx.t[i]==1)[0][0]\n",
    "    true_idx = np.where(true_PI[i]==1)[0][0]\n",
    "    esti_order.append(esti_idx_NoIdx)\n",
    "    true_PI_order.append(true_idx)\n",
    "    if esti_idx_NoIdx == true_idx:\n",
    "        acc += 1\n",
    "print(\"# Accuracy of permutation(No index) is: \", acc/2405)\n",
    "print(\"# the true order is : \", np.array(true_PI_order))\n",
    "print(\"# the estimated order is : \", np.array(esti_order))"
   ]
  },
  {
   "cell_type": "code",
   "execution_count": 18,
   "metadata": {
    "scrolled": false
   },
   "outputs": [
    {
     "name": "stderr",
     "output_type": "stream",
     "text": [
      "/tmp/ipykernel_36051/1181199234.py:57: DeprecationWarning: The truth value of an empty array is ambiguous. Returning False, but in future this will result in an error. Use `array.size > 0` to check that an array is not empty.\n",
      "  if esti_idx == ii:\n"
     ]
    },
    {
     "name": "stdout",
     "output_type": "stream",
     "text": [
      "# Accuracy of iter =  0  is:  0.0\n"
     ]
    },
    {
     "data": {
      "image/png": "[encoded data removed]",
      "text/plain": [
       "<Figure size 640x480 with 1 Axes>"
      ]
     },
     "metadata": {},
     "output_type": "display_data"
    },
    {
     "name": "stdout",
     "output_type": "stream",
     "text": [
      "# Accuracy of iter =  1  is:  0.9650727650727651\n"
     ]
    },
    {
     "data": {
      "image/png": "[encoded data removed]",
      "text/plain": [
       "<Figure size 640x480 with 1 Axes>"
      ]
     },
     "metadata": {},
     "output_type": "display_data"
    },
    {
     "name": "stdout",
     "output_type": "stream",
     "text": [
      "# Accuracy of iter =  2  is:  0.9708939708939709\n"
     ]
    },
    {
     "data": {
      "image/png": "[encoded data removed]",
      "text/plain": [
       "<Figure size 640x480 with 1 Axes>"
      ]
     },
     "metadata": {},
     "output_type": "display_data"
    },
    {
     "name": "stdout",
     "output_type": "stream",
     "text": [
      "# Accuracy of iter =  3  is:  0.9659043659043659\n"
     ]
    }
   ],
   "source": [
    "###########################################\n",
    "#        Main Part of ACCA algorithm      #\n",
    "###########################################\n",
    "import random\n",
    "import matplotlib.pyplot as plt\n",
    "\n",
    "### load in the dataset\n",
    "X = np.loadtxt('Wiki_embeddings/Wiki_embeddings/wiki_dw128.txt', delimiter = ' ', \\\n",
    "               skiprows = 1, usecols=range(1, 129)).T\n",
    "Y = np.loadtxt('Wiki_embeddings/Wiki_embeddings/wiki_dw200.txt', delimiter = ' ', \\\n",
    "               skiprows = 1, usecols=range(1, 201)).T\n",
    "\n",
    "\n",
    "from heapq import nlargest\n",
    "import time\n",
    "import copy\n",
    "from procrustes import permutation\n",
    "\n",
    "# the total training iterations\n",
    "n = 2405\n",
    "train_epoch = 4\n",
    "latent_dims = 10\n",
    "\n",
    "esti_PI_history = []\n",
    "acc_history = []\n",
    "for i in range(train_epoch):\n",
    "    ## estimate the permutation matrix\n",
    "    t_PI = time.time()\n",
    "    if i > 0:\n",
    "        XU = np.dot(X.T, U)\n",
    "        YV = np.dot(Y.T, V)\n",
    "        \n",
    "        esti_PI = permutation(YV.T, S.T)\n",
    "        esti_PI = np.array(esti_PI.t)\n",
    "    else:\n",
    "        # initialize the PI at totally random\n",
    "        esti_PI = np.zeros((n, n))\n",
    "        for j in range(int(n)):\n",
    "            esti_PI[j] = np.random.dirichlet(np.ones(n),size=1)[0]\n",
    "    t_PI = time.time() - t_PI\n",
    "    esti_PI_history.append(esti_PI)\n",
    "    \n",
    "    ## estimation of the CCA part\n",
    "    t_CCA = time.time()\n",
    "    U, V, S = MAXVAR_MCCA(X, Y, esti_PI)\n",
    "    t_CCA = time.time() - t_CCA\n",
    "    \n",
    "    ### evaluate the permutation matrix\n",
    "    PI = esti_PI_history[i]\n",
    "    acc = 0.0\n",
    "    idx_order = []\n",
    "    esti_PI_order = []\n",
    "    for ii in range(2405):\n",
    "        esti_idx = np.where(PI[ii]==1)[0]\n",
    "        if esti_idx.size > 0:\n",
    "            esti_idx = esti_idx[0]\n",
    "        if esti_idx == ii:\n",
    "            acc += 1\n",
    "        idx_order.append(ii)\n",
    "        esti_PI_order.append(esti_idx)\n",
    "    if i > 0:\n",
    "        plt.scatter(idx_order, esti_PI_order)\n",
    "        plt.title(\"Estimated Permutation Matrix of iter=\" + str(i))\n",
    "        plt.show()\n",
    "    print(\"# Accuracy of iter = \", i, \" is: \", acc/2405)\n",
    "    acc_history.append(acc)\n"
   ]
  },
  {
   "cell_type": "code",
   "execution_count": 19,
   "metadata": {},
   "outputs": [
    {
     "data": {
      "text/plain": [
       "[<matplotlib.lines.Line2D at 0x7f9cfd70cb50>]"
      ]
     },
     "execution_count": 19,
     "metadata": {},
     "output_type": "execute_result"
    },
    {
     "data": {
      "image/png": "[encoded data removed]",
      "text/plain": [
       "<Figure size 640x480 with 1 Axes>"
      ]
     },
     "metadata": {},
     "output_type": "display_data"
    }
   ],
   "source": [
    "plt.plot(np.array(acc_history) / 2405)"
   ]
  },
  {
   "cell_type": "code",
   "execution_count": 30,
   "metadata": {
    "scrolled": true
   },
   "outputs": [
    {
     "name": "stdout",
     "output_type": "stream",
     "text": [
      "# Re-arranged Order is : \n",
      "[ 576  196 1713 ... 1440 2094  646]\n",
      "##########################\n",
      "# evaluate the true PI: \n",
      "[ 576  196 1713 ... 1440 2094  646]\n",
      "##########################\n"
     ]
    },
    {
     "name": "stderr",
     "output_type": "stream",
     "text": [
      "/tmp/ipykernel_36051/1046041471.py:90: DeprecationWarning: The truth value of an empty array is ambiguous. Returning False, but in future this will result in an error. Use `array.size > 0` to check that an array is not empty.\n",
      "  if esti_idx == true_idx:\n"
     ]
    },
    {
     "name": "stdout",
     "output_type": "stream",
     "text": [
      "# Accuracy of iter =  0  is:  0.0\n",
      "# Accuracy of iter =  1  is:  0.002079002079002079\n",
      "# Accuracy of iter =  2  is:  0.0004158004158004158\n",
      "# Accuracy of iter =  3  is:  0.0004158004158004158\n",
      "# Accuracy of iter =  4  is:  0.0004158004158004158\n",
      "# Accuracy of iter =  5  is:  0.0004158004158004158\n",
      "# Accuracy of iter =  6  is:  0.0004158004158004158\n",
      "# Accuracy of iter =  7  is:  0.0004158004158004158\n",
      "# Accuracy of iter =  8  is:  0.0008316008316008316\n",
      "# Accuracy of iter =  9  is:  0.0008316008316008316\n"
     ]
    }
   ],
   "source": [
    "###########################################\n",
    "#        Main Part of ACCA algorithm      #\n",
    "###########################################\n",
    "import random\n",
    "\n",
    "### load in the dataset\n",
    "X = np.loadtxt('Wiki_embeddings/Wiki_embeddings/wiki_dw128.txt', delimiter = ' ', \\\n",
    "               skiprows = 1, usecols=range(1, 129)).T\n",
    "Y_origin = np.loadtxt('Wiki_embeddings/Wiki_embeddings/wiki_dw200.txt', delimiter = ' ', \\\n",
    "               skiprows = 1, usecols=range(1, 201)).T\n",
    "\n",
    "### reorder the Y dataset randomly\n",
    "reorder = np.array(random.sample(range(2405), 2405))\n",
    "Y = Y_origin[:, reorder]\n",
    "\n",
    "### generate the true permutatoin\n",
    "true_PI = np.zeros((2405, 2405))\n",
    "for i in range(2405):\n",
    "    true_PI[i][reorder[i]]= 1\n",
    "\n",
    "print(\"# Re-arranged Order is : \")\n",
    "print(reorder)\n",
    "print(\"##########################\")\n",
    "print(\"# evaluate the true PI: \")\n",
    "eval_true_PI = []\n",
    "for i in range(2405):\n",
    "    true_idx = np.where(true_PI[i]==1)[0][0]\n",
    "    eval_true_PI.append(true_idx)\n",
    "eval_true_PI = np.array(eval_true_PI)\n",
    "print(eval_true_PI)\n",
    "print(\"##########################\")\n",
    "\n",
    "\n",
    "from heapq import nlargest\n",
    "import time\n",
    "import copy\n",
    "from procrustes import permutation\n",
    "\n",
    "# the total training iterations\n",
    "n = 2405\n",
    "train_epoch = 10\n",
    "latent_dims = 10\n",
    "\n",
    "esti_PI_history = []\n",
    "acc_history = []\n",
    "VY_S_list = []\n",
    "VYP_S_list = []\n",
    "XU_S_list = []\n",
    "for i in range(train_epoch):\n",
    "    ## estimate the permutation matrix\n",
    "    t_PI = time.time()\n",
    "    if i > 0:\n",
    "        XU = np.dot(X.T, U)\n",
    "        YV = np.dot(Y.T, V)\n",
    "        \n",
    "        esti_PI = permutation(YV.T, XU.T)\n",
    "        esti_PI = np.array(esti_PI.t)\n",
    "        \n",
    "        VY_S = np.linalg.norm(YV.T-S, ord='fro')\n",
    "        VYP_S = np.linalg.norm(np.dot(YV.T, esti_PI)-S, ord='fro')\n",
    "        XU_S = np.linalg.norm(XU.T-S, ord='fro')\n",
    "        VY_S_list.append(VY_S)\n",
    "        VYP_S_list.append(VYP_S)\n",
    "        XU_S_list.append(XU_S)\n",
    "    else:\n",
    "        # initialize the PI at totally random\n",
    "        esti_PI = np.zeros((n, n))\n",
    "        for j in range(int(n)):\n",
    "            esti_PI[j] = np.random.dirichlet(np.ones(n),size=1)[0]\n",
    "    t_PI = time.time() - t_PI\n",
    "    esti_PI_history.append(esti_PI)\n",
    "    \n",
    "    ## estimation of the CCA part\n",
    "    t_CCA = time.time()\n",
    "    U, V, S = MAXVAR_MCCA(X, Y, esti_PI)    \n",
    "    t_CCA = time.time() - t_CCA\n",
    "    \n",
    "    ### evaluate the permutation matrix\n",
    "    PI = esti_PI_history[i]\n",
    "    acc = 0.0\n",
    "    idx_order = []\n",
    "    esti_PI_order = []\n",
    "    true_PI_order = []\n",
    "    for ii in range(2405):\n",
    "        esti_idx = np.where(PI[ii]==1)[0]\n",
    "        if esti_idx.size > 0:\n",
    "            esti_idx = esti_idx[0]\n",
    "        true_idx = np.where(true_PI[ii]==1)[0][0]\n",
    "        # print(\"# evaluate-\", ii, \" : \", esti_idx, \" - \", true_idx, \" ...\")\n",
    "        if esti_idx == true_idx:\n",
    "            acc += 1\n",
    "        idx_order.append(ii)\n",
    "        esti_PI_order.append(esti_idx)\n",
    "        true_PI_order.append(true_idx)\n",
    "#     if i > 0:\n",
    "#         plt.scatter(idx_order, esti_PI_order)\n",
    "#         plt.scatter(idx_order, true_PI_order)\n",
    "#         plt.title(\"Estimated Permutation Matrix of iter=\" + str(i))\n",
    "#         plt.show()\n",
    "    print(\"# Accuracy of iter = \", i, \" is: \", acc/2405)\n",
    "    acc_history.append(acc)\n"
   ]
  },
  {
   "cell_type": "code",
   "execution_count": 31,
   "metadata": {},
   "outputs": [
    {
     "name": "stdout",
     "output_type": "stream",
     "text": [
      "[33.16964634538359, 2.0062940175984694, 2.3526395492122716, 1.7866692133334539, 1.8168633816917406, 1.9748975169367962, 2.1304527105554283, 1.8281303451416944, 1.9066873748958706]\n",
      "[32.71980719808244, 1.9019122742959014, 2.23524752661342, 1.6948761687104401, 1.7188843469757211, 1.874598016229274, 1.9909079804248275, 1.736111108165896, 1.8150392250882958]\n",
      "[2.173881134973971, 1.867832350881012, 2.2099540609028434, 1.6690573480717656, 1.6885866595339583, 1.848120523855127, 1.9860488430319485, 1.7070119441954572, 1.7884693237221014]\n"
     ]
    }
   ],
   "source": [
    "print(VY_S_list)\n",
    "print(VYP_S_list)\n",
    "print(XU_S_list)"
   ]
  },
  {
   "cell_type": "code",
   "execution_count": null,
   "metadata": {},
   "outputs": [],
   "source": []
  }
 ],
 "metadata": {
  "kernelspec": {
   "display_name": "Python 3 (ipykernel)",
   "language": "python",
   "name": "python3"
  },
  "language_info": {
   "codemirror_mode": {
    "name": "ipython",
    "version": 3
   },
   "file_extension": ".py",
   "mimetype": "text/x-python",
   "name": "python",
   "nbconvert_exporter": "python",
   "pygments_lexer": "ipython3",
   "version": "3.9.13"
  }
 },
 "nbformat": 4,
 "nbformat_minor": 4
}
