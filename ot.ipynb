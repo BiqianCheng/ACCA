{
 "cells": [
  {
   "cell_type": "code",
   "execution_count": null,
   "metadata": {},
   "outputs": [],
   "source": [
    "import numpy as np\n",
    "import matplotlib.pylab as pl\n",
    "import ot\n",
    "import ot.plot"
   ]
  },
  {
   "cell_type": "code",
   "execution_count": null,
   "metadata": {},
   "outputs": [],
   "source": [
    "n = 50  # nb samples\n",
    "\n",
    "mu_s = np.array([0, 0])\n",
    "cov_s = np.array([[1, 0], [0, 1]])\n",
    "\n",
    "mu_t = np.array([4, 4])\n",
    "cov_t = np.array([[1, -.8], [-.8, 1]])\n",
    "\n",
    "xs = ot.datasets.make_2D_samples_gauss(n, mu_s, cov_s)\n",
    "xt = ot.datasets.make_2D_samples_gauss(n, mu_t, cov_t)\n",
    "\n",
    "a, b = np.ones((n,)) / n, np.ones((n,)) / n  # uniform distribution on samples\n",
    "\n",
    "# loss matrix\n",
    "M = ot.dist(xs, xt)"
   ]
  },
  {
   "cell_type": "code",
   "execution_count": null,
   "metadata": {},
   "outputs": [],
   "source": [
    "pl.figure(1)\n",
    "pl.plot(xs[:, 0], xs[:, 1], '+b', label='Source samples')\n",
    "pl.plot(xt[:, 0], xt[:, 1], 'xr', label='Target samples')\n",
    "pl.legend(loc=0)\n",
    "pl.title('Source and target distributions')\n",
    "\n",
    "pl.figure(2)\n",
    "pl.imshow(M, interpolation='nearest')\n",
    "pl.title('Cost matrix M')"
   ]
  }
 ],
 "metadata": {
  "language_info": {
   "name": "python"
  },
  "orig_nbformat": 4
 },
 "nbformat": 4,
 "nbformat_minor": 2
}
